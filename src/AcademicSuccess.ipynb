{
 "cells": [
  {
   "cell_type": "markdown",
   "metadata": {},
   "source": [
    "# Students' dropout and Academic Success\n",
    "\n",
    "### Project developed by:\n",
    "- Pedro Jesus (up201907523)\n",
    "- Sofia Germer (up201907461)\n",
    "- Sérgio Estêvão (up201905680)\n",
    "\n",
    "## Table of Contents\n",
    "\n",
    "1. [Specification](#Specification)\n",
    "2. [Related Work](#Related-work)\n",
    "3. [Approach](#Approach)\n",
    "4. [Required Libraries](#Required-libraries)\n",
    "5. [Data Analysis](#Data-analysis)\n",
    "6. [Data preprocessing](#Data-processing)\n",
    "\n",
    "## Specification\n",
    "\n",
    "Our approach to this problem was as follows:\n",
    "\n",
    "1. **Data analysis:** \n",
    "2. **Algorithm implementation:**\n",
    "3. **Evalutation and refinement:**\n",
    "\n",
    "## Required Libraries\n",
    "\n",
    "- numpy\n",
    "- pandas\n",
    "- matplotlib\n",
    "- sklearn\n",
    "- seaborn\n",
    "\n",
    "These libraries can be installed by running the following command in the terminal:\n",
    "> ``` pip install -r requirements.txt ```\n",
    "\n",
    "## Data analysis\n",
    "\n",
    "We start by importing the required libraries and plotting some graphs for initial analysis of the dataset."
   ]
  },
  {
   "cell_type": "code",
   "execution_count": null,
   "metadata": {},
   "outputs": [],
   "source": [
    "import pandas as pd\n",
    "import numpy as np\n",
    "import matplotlib.pyplot as plt\n",
    "import matplotlib.patches as mpt\n",
    "import sklearn as sk\n",
    "import seaborn as sb\n",
    "\n",
    "\n",
    "\n",
    "dataset = pd.read_csv('data.csv', na_values=['NA'], delimiter=\";\")\n",
    "\n",
    "dataset_corr = dataset.corr()\n",
    "plt.figure(figsize=(20,20))\n",
    "mask = np.zeros_like(dataset_corr)\n",
    "mask[np.triu_indices_from(mask, k=1)] = True\n",
    "sb.heatmap(dataset_corr, linewidths=0.1,cmap=\"YlGnBu\", annot=True, square=True, mask=mask, fmt='.2f', annot_kws={\"size\": 6});\n",
    "plt.show()"
   ]
  }
 ],
 "metadata": {
  "interpreter": {
   "hash": "916dbcbb3f70747c44a77c7bcd40155683ae19c65e1c03b4aa3499c5328201f1"
  },
  "kernelspec": {
   "display_name": "Python 3.9.7 64-bit",
   "language": "python",
   "name": "python3"
  },
  "language_info": {
   "codemirror_mode": {
    "name": "ipython",
    "version": 3
   },
   "file_extension": ".py",
   "mimetype": "text/x-python",
   "name": "python",
   "nbconvert_exporter": "python",
   "pygments_lexer": "ipython3",
   "version": "3.9.7"
  },
  "orig_nbformat": 4
 },
 "nbformat": 4,
 "nbformat_minor": 2
}
